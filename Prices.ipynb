{
 "cells": [
  {
   "cell_type": "code",
   "execution_count": 88,
   "metadata": {},
   "outputs": [],
   "source": [
    "import pandas as pd\n",
    "from matplotlib import pyplot as plt\n",
    "import re"
   ]
  },
  {
   "cell_type": "markdown",
   "metadata": {},
   "source": [
    "Загрузим данные, посмотрим на структуру и приведем в удобный для анализа вид."
   ]
  },
  {
   "cell_type": "code",
   "execution_count": 89,
   "metadata": {},
   "outputs": [],
   "source": [
    "df_prices = pd.read_csv('TeddyFoodPrices.csv')"
   ]
  },
  {
   "cell_type": "code",
   "execution_count": 90,
   "metadata": {},
   "outputs": [
    {
     "name": "stdout",
     "output_type": "stream",
     "text": [
      "<class 'pandas.core.frame.DataFrame'>\n",
      "RangeIndex: 13318 entries, 0 to 13317\n",
      "Data columns (total 5 columns):\n",
      " #   Column                      Non-Null Count  Dtype  \n",
      "---  ------                      --------------  -----  \n",
      " 0   Идентификатор пользователя  13318 non-null  int64  \n",
      " 1   Название приюта             13318 non-null  object \n",
      " 2   Дата/время платежа          13318 non-null  object \n",
      " 3   Наименование услуги         13318 non-null  object \n",
      " 4   Сумма платежа               13318 non-null  float64\n",
      "dtypes: float64(1), int64(1), object(3)\n",
      "memory usage: 520.4+ KB\n"
     ]
    }
   ],
   "source": [
    "df_prices.info()"
   ]
  },
  {
   "cell_type": "code",
   "execution_count": 91,
   "metadata": {},
   "outputs": [],
   "source": [
    "df_prices.columns = ['user_id', 'shelter', 'date', 'item', 'price']"
   ]
  },
  {
   "cell_type": "code",
   "execution_count": 92,
   "metadata": {},
   "outputs": [
    {
     "data": {
      "text/html": [
       "<div>\n",
       "<style scoped>\n",
       "    .dataframe tbody tr th:only-of-type {\n",
       "        vertical-align: middle;\n",
       "    }\n",
       "\n",
       "    .dataframe tbody tr th {\n",
       "        vertical-align: top;\n",
       "    }\n",
       "\n",
       "    .dataframe thead th {\n",
       "        text-align: right;\n",
       "    }\n",
       "</style>\n",
       "<table border=\"1\" class=\"dataframe\">\n",
       "  <thead>\n",
       "    <tr style=\"text-align: right;\">\n",
       "      <th></th>\n",
       "      <th>user_id</th>\n",
       "      <th>shelter</th>\n",
       "      <th>date</th>\n",
       "      <th>item</th>\n",
       "      <th>price</th>\n",
       "    </tr>\n",
       "  </thead>\n",
       "  <tbody>\n",
       "    <tr>\n",
       "      <th>0</th>\n",
       "      <td>27542</td>\n",
       "      <td>Кот и Пёс</td>\n",
       "      <td>2019-09-01 01:02:25</td>\n",
       "      <td>ПёсоДень</td>\n",
       "      <td>155.0</td>\n",
       "    </tr>\n",
       "    <tr>\n",
       "      <th>1</th>\n",
       "      <td>26869</td>\n",
       "      <td>Матроскин</td>\n",
       "      <td>2019-09-01 01:03:41</td>\n",
       "      <td>Стерилизация</td>\n",
       "      <td>350.0</td>\n",
       "    </tr>\n",
       "    <tr>\n",
       "      <th>2</th>\n",
       "      <td>26869</td>\n",
       "      <td>Люськин дом</td>\n",
       "      <td>2019-09-01 01:03:41</td>\n",
       "      <td>1 КотоДень</td>\n",
       "      <td>87.0</td>\n",
       "    </tr>\n",
       "    <tr>\n",
       "      <th>3</th>\n",
       "      <td>26869</td>\n",
       "      <td>Убежище</td>\n",
       "      <td>2019-09-01 01:03:41</td>\n",
       "      <td>1 КотоДень</td>\n",
       "      <td>114.0</td>\n",
       "    </tr>\n",
       "    <tr>\n",
       "      <th>4</th>\n",
       "      <td>4696</td>\n",
       "      <td>Кошачий приют \"ДОМИК\"</td>\n",
       "      <td>2019-09-01 03:18:44</td>\n",
       "      <td>1 КотоНеделя</td>\n",
       "      <td>855.0</td>\n",
       "    </tr>\n",
       "  </tbody>\n",
       "</table>\n",
       "</div>"
      ],
      "text/plain": [
       "   user_id                shelter                date          item  price\n",
       "0    27542              Кот и Пёс 2019-09-01 01:02:25      ПёсоДень  155.0\n",
       "1    26869              Матроскин 2019-09-01 01:03:41  Стерилизация  350.0\n",
       "2    26869            Люськин дом 2019-09-01 01:03:41    1 КотоДень   87.0\n",
       "3    26869                Убежище 2019-09-01 01:03:41    1 КотоДень  114.0\n",
       "4     4696  Кошачий приют \"ДОМИК\" 2019-09-01 03:18:44  1 КотоНеделя  855.0"
      ]
     },
     "execution_count": 92,
     "metadata": {},
     "output_type": "execute_result"
    }
   ],
   "source": [
    "df_prices['date'] = pd.to_datetime(df_prices['date'])\n",
    "df_prices.head()"
   ]
  },
  {
   "cell_type": "markdown",
   "metadata": {},
   "source": [
    "Посмотрим на средний чек для пользователя."
   ]
  },
  {
   "cell_type": "code",
   "execution_count": 217,
   "metadata": {},
   "outputs": [
    {
     "data": {
      "text/plain": [
       "181.5"
      ]
     },
     "execution_count": 217,
     "metadata": {},
     "output_type": "execute_result"
    }
   ],
   "source": [
    "df_prices.groupby(['user_id', 'date'])['price'].sum().median()"
   ]
  },
  {
   "cell_type": "code",
   "execution_count": 116,
   "metadata": {},
   "outputs": [
    {
     "data": {
      "text/plain": [
       "<matplotlib.axes._subplots.AxesSubplot at 0x133c1f950>"
      ]
     },
     "execution_count": 116,
     "metadata": {},
     "output_type": "execute_result"
    },
    {
     "data": {
      "image/png": "[encoded data removed]",
      "text/plain": [
       "<Figure size 432x288 with 1 Axes>"
      ]
     },
     "metadata": {
      "needs_background": "light"
     },
     "output_type": "display_data"
    }
   ],
   "source": [
    "df_prices.groupby(['user_id', 'date'])['price'].sum().hist(bins=30, range=(0, 3000))"
   ]
  },
  {
   "cell_type": "markdown",
   "metadata": {},
   "source": [
    "Выделим разные категории покупок."
   ]
  },
  {
   "cell_type": "code",
   "execution_count": 93,
   "metadata": {},
   "outputs": [],
   "source": [
    "def categorize(str):\n",
    "    if 'Кото' in str:\n",
    "        return \"cat\"\n",
    "    if 'Пёсо' in str:\n",
    "        return \"dog\"\n",
    "    else:\n",
    "        return \"else\""
   ]
  },
  {
   "cell_type": "code",
   "execution_count": 94,
   "metadata": {},
   "outputs": [],
   "source": [
    "df_prices['type'] = df_prices['item'].apply(categorize)"
   ]
  },
  {
   "cell_type": "code",
   "execution_count": 105,
   "metadata": {},
   "outputs": [],
   "source": [
    "df_prices_cats = df_prices[df_prices['type'] == 'cat'].copy()\n",
    "df_prices_dogs = df_prices[df_prices['type'] == 'dog'].copy()"
   ]
  },
  {
   "cell_type": "markdown",
   "metadata": {},
   "source": [
    "Выберем данные только по котодням, котонеделям и котомесецам."
   ]
  },
  {
   "cell_type": "code",
   "execution_count": 106,
   "metadata": {},
   "outputs": [
    {
     "name": "stdout",
     "output_type": "stream",
     "text": [
      "<class 'pandas.core.frame.DataFrame'>\n",
      "Int64Index: 5381 entries, 2 to 13316\n",
      "Data columns (total 6 columns):\n",
      " #   Column   Non-Null Count  Dtype         \n",
      "---  ------   --------------  -----         \n",
      " 0   user_id  5381 non-null   int64         \n",
      " 1   shelter  5381 non-null   object        \n",
      " 2   date     5381 non-null   datetime64[ns]\n",
      " 3   item     5381 non-null   object        \n",
      " 4   price    5381 non-null   float64       \n",
      " 5   type     5381 non-null   object        \n",
      "dtypes: datetime64[ns](1), float64(1), int64(1), object(3)\n",
      "memory usage: 294.3+ KB\n"
     ]
    }
   ],
   "source": [
    "df_prices_cats.info()"
   ]
  },
  {
   "cell_type": "code",
   "execution_count": 107,
   "metadata": {},
   "outputs": [
    {
     "data": {
      "text/plain": [
       "array(['1 КотоДень', '1 КотоНеделя', 'КотоНеделя', 'КотоДень', 'Котодень',\n",
       "       '1 КотоМесяц', 'КотоМесяц', ' Новогодний КотоНабор',\n",
       "       'Новогодний КотоНабор'], dtype=object)"
      ]
     },
     "execution_count": 107,
     "metadata": {},
     "output_type": "execute_result"
    }
   ],
   "source": [
    "df_prices_cats['item'].unique()"
   ]
  },
  {
   "cell_type": "code",
   "execution_count": 108,
   "metadata": {},
   "outputs": [],
   "source": [
    "df_prices_cats['item'] = df_prices_cats['item'].apply(lambda x: re.sub(r\"\\d+\", \"\", x).strip().lower())"
   ]
  },
  {
   "cell_type": "code",
   "execution_count": 109,
   "metadata": {},
   "outputs": [],
   "source": [
    "df_prices_cats = df_prices_cats[df_prices_cats['item'] != 'новогодний котонабор']"
   ]
  },
  {
   "cell_type": "markdown",
   "metadata": {},
   "source": [
    "Посмотрим на цены вообщем для этих товаров."
   ]
  },
  {
   "cell_type": "code",
   "execution_count": 110,
   "metadata": {},
   "outputs": [
    {
     "data": {
      "text/plain": [
       "item\n",
       "котодень       100.620910\n",
       "котомесяц     3109.578947\n",
       "котонеделя     814.465211\n",
       "Name: price, dtype: float64"
      ]
     },
     "execution_count": 110,
     "metadata": {},
     "output_type": "execute_result"
    }
   ],
   "source": [
    "df_prices_cats.groupby('item')['price'].mean()"
   ]
  },
  {
   "cell_type": "code",
   "execution_count": 101,
   "metadata": {},
   "outputs": [
    {
     "data": {
      "text/plain": [
       "<matplotlib.axes._subplots.AxesSubplot at 0x1338527d0>"
      ]
     },
     "execution_count": 101,
     "metadata": {},
     "output_type": "execute_result"
    },
    {
     "data": {
      "image/png": "[encoded data removed]",
      "text/plain": [
       "<Figure size 432x288 with 1 Axes>"
      ]
     },
     "metadata": {
      "needs_background": "light"
     },
     "output_type": "display_data"
    }
   ],
   "source": [
    "df_prices_cats[df_prices_cats['item'] == 'котодень']['price'].hist(bins=10, range=(50, 150))"
   ]
  },
  {
   "cell_type": "code",
   "execution_count": 102,
   "metadata": {},
   "outputs": [
    {
     "data": {
      "text/plain": [
       "<matplotlib.axes._subplots.AxesSubplot at 0x13385de50>"
      ]
     },
     "execution_count": 102,
     "metadata": {},
     "output_type": "execute_result"
    },
    {
     "data": {
      "image/png": "[encoded data removed]",
      "text/plain": [
       "<Figure size 432x288 with 1 Axes>"
      ]
     },
     "metadata": {
      "needs_background": "light"
     },
     "output_type": "display_data"
    }
   ],
   "source": [
    "df_prices_cats[df_prices_cats['item'] == 'котонеделя']['price'].hist(bins=10, range=(600, 1200))"
   ]
  },
  {
   "cell_type": "code",
   "execution_count": 103,
   "metadata": {},
   "outputs": [
    {
     "data": {
      "text/plain": [
       "<matplotlib.axes._subplots.AxesSubplot at 0x1339ca8d0>"
      ]
     },
     "execution_count": 103,
     "metadata": {},
     "output_type": "execute_result"
    },
    {
     "data": {
      "image/png": "[encoded data removed]",
      "text/plain": [
       "<Figure size 432x288 with 1 Axes>"
      ]
     },
     "metadata": {
      "needs_background": "light"
     },
     "output_type": "display_data"
    }
   ],
   "source": [
    "df_prices_cats[df_prices_cats['item'] == 'котомесяц']['price'].hist(bins=10)"
   ]
  },
  {
   "cell_type": "markdown",
   "metadata": {},
   "source": [
    "Мы видим, что популярнее всего Котодни за 100 рублей, Котонедели менее популярны их сцена около 800 рублей и Котомесяцы вообще редко приобретают."
   ]
  },
  {
   "cell_type": "markdown",
   "metadata": {},
   "source": [
    "Посмотрим на данные по отдельным приютам"
   ]
  },
  {
   "cell_type": "code",
   "execution_count": 119,
   "metadata": {},
   "outputs": [
    {
     "data": {
      "text/plain": [
       "shelter\n",
       "Добрые сердца                                 354\n",
       "Кот и Пёс                                     188\n",
       "Котофей                                       640\n",
       "Кошачий приют \"ДОМИК\"                         629\n",
       "Люськин дом                                   490\n",
       "Лёхин дом                                     323\n",
       "Матроскин                                     258\n",
       "Приют для кошек \"Потеряшка\"                   287\n",
       "Приют для кошек \"ЯрКот\"                       401\n",
       "Самарский приют для животных \"НадеждА\"        609\n",
       "Убежище                                       459\n",
       "ФлагманВет                                     31\n",
       "Центральный приют Спб для бездомных кошек!    315\n",
       "Name: user_id, dtype: int64"
      ]
     },
     "execution_count": 119,
     "metadata": {},
     "output_type": "execute_result"
    }
   ],
   "source": [
    "df_prices_cats.groupby('shelter')['user_id'].count()"
   ]
  },
  {
   "cell_type": "markdown",
   "metadata": {},
   "source": [
    "Посмотрим на цены для конкретного приюта"
   ]
  },
  {
   "cell_type": "code",
   "execution_count": 151,
   "metadata": {},
   "outputs": [],
   "source": [
    "# создадим таблицу с количество транзакций и количеством денег, которые получил приют от Кото товаров\n",
    "df_shelters = df_prices_cats.groupby('shelter')['price'].sum().reset_index()"
   ]
  },
  {
   "cell_type": "code",
   "execution_count": 154,
   "metadata": {},
   "outputs": [
    {
     "data": {
      "text/html": [
       "<div>\n",
       "<style scoped>\n",
       "    .dataframe tbody tr th:only-of-type {\n",
       "        vertical-align: middle;\n",
       "    }\n",
       "\n",
       "    .dataframe tbody tr th {\n",
       "        vertical-align: top;\n",
       "    }\n",
       "\n",
       "    .dataframe thead th {\n",
       "        text-align: right;\n",
       "    }\n",
       "</style>\n",
       "<table border=\"1\" class=\"dataframe\">\n",
       "  <thead>\n",
       "    <tr style=\"text-align: right;\">\n",
       "      <th></th>\n",
       "      <th>shelter</th>\n",
       "      <th>price</th>\n",
       "      <th>sales_amount</th>\n",
       "    </tr>\n",
       "  </thead>\n",
       "  <tbody>\n",
       "    <tr>\n",
       "      <th>0</th>\n",
       "      <td>Добрые сердца</td>\n",
       "      <td>70336.00</td>\n",
       "      <td>354</td>\n",
       "    </tr>\n",
       "    <tr>\n",
       "      <th>1</th>\n",
       "      <td>Кот и Пёс</td>\n",
       "      <td>34223.00</td>\n",
       "      <td>188</td>\n",
       "    </tr>\n",
       "    <tr>\n",
       "      <th>2</th>\n",
       "      <td>Котофей</td>\n",
       "      <td>97091.72</td>\n",
       "      <td>640</td>\n",
       "    </tr>\n",
       "    <tr>\n",
       "      <th>3</th>\n",
       "      <td>Кошачий приют \"ДОМИК\"</td>\n",
       "      <td>79210.19</td>\n",
       "      <td>629</td>\n",
       "    </tr>\n",
       "    <tr>\n",
       "      <th>4</th>\n",
       "      <td>Люськин дом</td>\n",
       "      <td>94132.78</td>\n",
       "      <td>490</td>\n",
       "    </tr>\n",
       "    <tr>\n",
       "      <th>5</th>\n",
       "      <td>Лёхин дом</td>\n",
       "      <td>65193.00</td>\n",
       "      <td>323</td>\n",
       "    </tr>\n",
       "    <tr>\n",
       "      <th>6</th>\n",
       "      <td>Матроскин</td>\n",
       "      <td>45635.73</td>\n",
       "      <td>258</td>\n",
       "    </tr>\n",
       "    <tr>\n",
       "      <th>7</th>\n",
       "      <td>Приют для кошек \"Потеряшка\"</td>\n",
       "      <td>56420.00</td>\n",
       "      <td>287</td>\n",
       "    </tr>\n",
       "    <tr>\n",
       "      <th>8</th>\n",
       "      <td>Приют для кошек \"ЯрКот\"</td>\n",
       "      <td>66241.38</td>\n",
       "      <td>401</td>\n",
       "    </tr>\n",
       "    <tr>\n",
       "      <th>9</th>\n",
       "      <td>Самарский приют для животных \"НадеждА\"</td>\n",
       "      <td>107503.00</td>\n",
       "      <td>609</td>\n",
       "    </tr>\n",
       "    <tr>\n",
       "      <th>10</th>\n",
       "      <td>Убежище</td>\n",
       "      <td>76552.68</td>\n",
       "      <td>459</td>\n",
       "    </tr>\n",
       "    <tr>\n",
       "      <th>11</th>\n",
       "      <td>ФлагманВет</td>\n",
       "      <td>6154.00</td>\n",
       "      <td>31</td>\n",
       "    </tr>\n",
       "    <tr>\n",
       "      <th>12</th>\n",
       "      <td>Центральный приют Спб для бездомных кошек!</td>\n",
       "      <td>47650.59</td>\n",
       "      <td>315</td>\n",
       "    </tr>\n",
       "  </tbody>\n",
       "</table>\n",
       "</div>"
      ],
      "text/plain": [
       "                                       shelter      price  sales_amount\n",
       "0                                Добрые сердца   70336.00           354\n",
       "1                                    Кот и Пёс   34223.00           188\n",
       "2                                      Котофей   97091.72           640\n",
       "3                        Кошачий приют \"ДОМИК\"   79210.19           629\n",
       "4                                  Люськин дом   94132.78           490\n",
       "5                                    Лёхин дом   65193.00           323\n",
       "6                                    Матроскин   45635.73           258\n",
       "7                  Приют для кошек \"Потеряшка\"   56420.00           287\n",
       "8                      Приют для кошек \"ЯрКот\"   66241.38           401\n",
       "9       Самарский приют для животных \"НадеждА\"  107503.00           609\n",
       "10                                     Убежище   76552.68           459\n",
       "11                                  ФлагманВет    6154.00            31\n",
       "12  Центральный приют Спб для бездомных кошек!   47650.59           315"
      ]
     },
     "execution_count": 154,
     "metadata": {},
     "output_type": "execute_result"
    }
   ],
   "source": [
    "df_shelters['sales_amount'] = df_prices_cats.groupby('shelter')['user_id'].count().reset_index()['user_id']\n",
    "df_shelters"
   ]
  },
  {
   "cell_type": "code",
   "execution_count": 155,
   "metadata": {},
   "outputs": [
    {
     "data": {
      "text/html": [
       "<div>\n",
       "<style scoped>\n",
       "    .dataframe tbody tr th:only-of-type {\n",
       "        vertical-align: middle;\n",
       "    }\n",
       "\n",
       "    .dataframe tbody tr th {\n",
       "        vertical-align: top;\n",
       "    }\n",
       "\n",
       "    .dataframe thead th {\n",
       "        text-align: right;\n",
       "    }\n",
       "</style>\n",
       "<table border=\"1\" class=\"dataframe\">\n",
       "  <thead>\n",
       "    <tr style=\"text-align: right;\">\n",
       "      <th></th>\n",
       "      <th>shelter</th>\n",
       "      <th>price</th>\n",
       "      <th>sales_amount</th>\n",
       "      <th>price_per_sale</th>\n",
       "    </tr>\n",
       "  </thead>\n",
       "  <tbody>\n",
       "    <tr>\n",
       "      <th>0</th>\n",
       "      <td>Добрые сердца</td>\n",
       "      <td>70336.00</td>\n",
       "      <td>354</td>\n",
       "      <td>198.689266</td>\n",
       "    </tr>\n",
       "    <tr>\n",
       "      <th>1</th>\n",
       "      <td>Кот и Пёс</td>\n",
       "      <td>34223.00</td>\n",
       "      <td>188</td>\n",
       "      <td>182.037234</td>\n",
       "    </tr>\n",
       "    <tr>\n",
       "      <th>2</th>\n",
       "      <td>Котофей</td>\n",
       "      <td>97091.72</td>\n",
       "      <td>640</td>\n",
       "      <td>151.705813</td>\n",
       "    </tr>\n",
       "    <tr>\n",
       "      <th>3</th>\n",
       "      <td>Кошачий приют \"ДОМИК\"</td>\n",
       "      <td>79210.19</td>\n",
       "      <td>629</td>\n",
       "      <td>125.930350</td>\n",
       "    </tr>\n",
       "    <tr>\n",
       "      <th>4</th>\n",
       "      <td>Люськин дом</td>\n",
       "      <td>94132.78</td>\n",
       "      <td>490</td>\n",
       "      <td>192.107714</td>\n",
       "    </tr>\n",
       "    <tr>\n",
       "      <th>5</th>\n",
       "      <td>Лёхин дом</td>\n",
       "      <td>65193.00</td>\n",
       "      <td>323</td>\n",
       "      <td>201.835913</td>\n",
       "    </tr>\n",
       "    <tr>\n",
       "      <th>6</th>\n",
       "      <td>Матроскин</td>\n",
       "      <td>45635.73</td>\n",
       "      <td>258</td>\n",
       "      <td>176.882674</td>\n",
       "    </tr>\n",
       "    <tr>\n",
       "      <th>7</th>\n",
       "      <td>Приют для кошек \"Потеряшка\"</td>\n",
       "      <td>56420.00</td>\n",
       "      <td>287</td>\n",
       "      <td>196.585366</td>\n",
       "    </tr>\n",
       "    <tr>\n",
       "      <th>8</th>\n",
       "      <td>Приют для кошек \"ЯрКот\"</td>\n",
       "      <td>66241.38</td>\n",
       "      <td>401</td>\n",
       "      <td>165.190474</td>\n",
       "    </tr>\n",
       "    <tr>\n",
       "      <th>9</th>\n",
       "      <td>Самарский приют для животных \"НадеждА\"</td>\n",
       "      <td>107503.00</td>\n",
       "      <td>609</td>\n",
       "      <td>176.523810</td>\n",
       "    </tr>\n",
       "    <tr>\n",
       "      <th>10</th>\n",
       "      <td>Убежище</td>\n",
       "      <td>76552.68</td>\n",
       "      <td>459</td>\n",
       "      <td>166.781438</td>\n",
       "    </tr>\n",
       "    <tr>\n",
       "      <th>11</th>\n",
       "      <td>ФлагманВет</td>\n",
       "      <td>6154.00</td>\n",
       "      <td>31</td>\n",
       "      <td>198.516129</td>\n",
       "    </tr>\n",
       "    <tr>\n",
       "      <th>12</th>\n",
       "      <td>Центральный приют Спб для бездомных кошек!</td>\n",
       "      <td>47650.59</td>\n",
       "      <td>315</td>\n",
       "      <td>151.271714</td>\n",
       "    </tr>\n",
       "  </tbody>\n",
       "</table>\n",
       "</div>"
      ],
      "text/plain": [
       "                                       shelter      price  sales_amount  \\\n",
       "0                                Добрые сердца   70336.00           354   \n",
       "1                                    Кот и Пёс   34223.00           188   \n",
       "2                                      Котофей   97091.72           640   \n",
       "3                        Кошачий приют \"ДОМИК\"   79210.19           629   \n",
       "4                                  Люськин дом   94132.78           490   \n",
       "5                                    Лёхин дом   65193.00           323   \n",
       "6                                    Матроскин   45635.73           258   \n",
       "7                  Приют для кошек \"Потеряшка\"   56420.00           287   \n",
       "8                      Приют для кошек \"ЯрКот\"   66241.38           401   \n",
       "9       Самарский приют для животных \"НадеждА\"  107503.00           609   \n",
       "10                                     Убежище   76552.68           459   \n",
       "11                                  ФлагманВет    6154.00            31   \n",
       "12  Центральный приют Спб для бездомных кошек!   47650.59           315   \n",
       "\n",
       "    price_per_sale  \n",
       "0       198.689266  \n",
       "1       182.037234  \n",
       "2       151.705813  \n",
       "3       125.930350  \n",
       "4       192.107714  \n",
       "5       201.835913  \n",
       "6       176.882674  \n",
       "7       196.585366  \n",
       "8       165.190474  \n",
       "9       176.523810  \n",
       "10      166.781438  \n",
       "11      198.516129  \n",
       "12      151.271714  "
      ]
     },
     "execution_count": 155,
     "metadata": {},
     "output_type": "execute_result"
    }
   ],
   "source": [
    "# добавим сколько приходится на ону транзакцию\n",
    "df_shelters['price_per_sale'] = df_shelters['price'] / df_shelters['sales_amount']\n",
    "df_shelters"
   ]
  },
  {
   "cell_type": "markdown",
   "metadata": {},
   "source": [
    "Добавим значения стоимости Котодня, Котонедели и Котомесяца. Так же добавим какой процент состовляют Котодни и Котонедели от общего числа Котопродуктов."
   ]
  },
  {
   "cell_type": "code",
   "execution_count": 238,
   "metadata": {},
   "outputs": [],
   "source": [
    "days = []\n",
    "week = []\n",
    "month = []\n",
    "d1 = []\n",
    "d2 = []\n",
    "for i in df_shelters['shelter'].to_list():\n",
    "    d = df_prices_cats[(df_prices_cats['shelter'] == i) & (df_prices_cats['item'] == 'котодень')]['price'].median()\n",
    "    w = df_prices_cats[(df_prices_cats['shelter'] == i) & (df_prices_cats['item'] == 'котонеделя')]['price'].median()\n",
    "    m = df_prices_cats[(df_prices_cats['shelter'] == i) & (df_prices_cats['item'] == 'котомесяц')]['price'].median()\n",
    "    dolya = df_prices_cats[(df_prices_cats['shelter'] == i) & (df_prices_cats['item'] == 'котодень')]['price'].count() / df_shelters[df_shelters['shelter'] == i]['sales_amount']\n",
    "    dolya2 = df_prices_cats[(df_prices_cats['shelter'] == i) & (df_prices_cats['item'] == 'котонеделя')]['price'].count() / df_shelters[df_shelters['shelter'] == i]['sales_amount']\n",
    "    days.append(d)\n",
    "    week.append(w)\n",
    "    month.append(m)\n",
    "    d1.append(float(\"{0:.2f}\".format(float(dolya))))\n",
    "    d2.append(float(\"{0:.2f}\".format(float(dolya2))))"
   ]
  },
  {
   "cell_type": "code",
   "execution_count": 239,
   "metadata": {},
   "outputs": [
    {
     "data": {
      "text/html": [
       "<div>\n",
       "<style scoped>\n",
       "    .dataframe tbody tr th:only-of-type {\n",
       "        vertical-align: middle;\n",
       "    }\n",
       "\n",
       "    .dataframe tbody tr th {\n",
       "        vertical-align: top;\n",
       "    }\n",
       "\n",
       "    .dataframe thead th {\n",
       "        text-align: right;\n",
       "    }\n",
       "</style>\n",
       "<table border=\"1\" class=\"dataframe\">\n",
       "  <thead>\n",
       "    <tr style=\"text-align: right;\">\n",
       "      <th></th>\n",
       "      <th>shelter</th>\n",
       "      <th>price</th>\n",
       "      <th>sales_amount</th>\n",
       "      <th>price_per_sale</th>\n",
       "      <th>day</th>\n",
       "      <th>week</th>\n",
       "      <th>month</th>\n",
       "      <th>day_all</th>\n",
       "      <th>week_all</th>\n",
       "    </tr>\n",
       "  </thead>\n",
       "  <tbody>\n",
       "    <tr>\n",
       "      <th>0</th>\n",
       "      <td>Добрые сердца</td>\n",
       "      <td>70336.00</td>\n",
       "      <td>354</td>\n",
       "      <td>198.689266</td>\n",
       "      <td>99.0</td>\n",
       "      <td>958.0</td>\n",
       "      <td>3249.0</td>\n",
       "      <td>0.92</td>\n",
       "      <td>0.08</td>\n",
       "    </tr>\n",
       "    <tr>\n",
       "      <th>1</th>\n",
       "      <td>Кот и Пёс</td>\n",
       "      <td>34223.00</td>\n",
       "      <td>188</td>\n",
       "      <td>182.037234</td>\n",
       "      <td>94.0</td>\n",
       "      <td>710.0</td>\n",
       "      <td>NaN</td>\n",
       "      <td>0.86</td>\n",
       "      <td>0.14</td>\n",
       "    </tr>\n",
       "    <tr>\n",
       "      <th>2</th>\n",
       "      <td>Котофей</td>\n",
       "      <td>97091.72</td>\n",
       "      <td>640</td>\n",
       "      <td>151.705813</td>\n",
       "      <td>87.0</td>\n",
       "      <td>723.0</td>\n",
       "      <td>2500.0</td>\n",
       "      <td>0.91</td>\n",
       "      <td>0.08</td>\n",
       "    </tr>\n",
       "    <tr>\n",
       "      <th>3</th>\n",
       "      <td>Кошачий приют \"ДОМИК\"</td>\n",
       "      <td>79210.19</td>\n",
       "      <td>629</td>\n",
       "      <td>125.930350</td>\n",
       "      <td>76.0</td>\n",
       "      <td>720.0</td>\n",
       "      <td>NaN</td>\n",
       "      <td>0.92</td>\n",
       "      <td>0.08</td>\n",
       "    </tr>\n",
       "    <tr>\n",
       "      <th>4</th>\n",
       "      <td>Люськин дом</td>\n",
       "      <td>94132.78</td>\n",
       "      <td>490</td>\n",
       "      <td>192.107714</td>\n",
       "      <td>97.0</td>\n",
       "      <td>837.0</td>\n",
       "      <td>2968.0</td>\n",
       "      <td>0.89</td>\n",
       "      <td>0.11</td>\n",
       "    </tr>\n",
       "    <tr>\n",
       "      <th>5</th>\n",
       "      <td>Лёхин дом</td>\n",
       "      <td>65193.00</td>\n",
       "      <td>323</td>\n",
       "      <td>201.835913</td>\n",
       "      <td>116.0</td>\n",
       "      <td>1077.0</td>\n",
       "      <td>3745.0</td>\n",
       "      <td>0.96</td>\n",
       "      <td>0.03</td>\n",
       "    </tr>\n",
       "    <tr>\n",
       "      <th>6</th>\n",
       "      <td>Матроскин</td>\n",
       "      <td>45635.73</td>\n",
       "      <td>258</td>\n",
       "      <td>176.882674</td>\n",
       "      <td>98.0</td>\n",
       "      <td>825.0</td>\n",
       "      <td>3280.0</td>\n",
       "      <td>0.90</td>\n",
       "      <td>0.10</td>\n",
       "    </tr>\n",
       "    <tr>\n",
       "      <th>7</th>\n",
       "      <td>Приют для кошек \"Потеряшка\"</td>\n",
       "      <td>56420.00</td>\n",
       "      <td>287</td>\n",
       "      <td>196.585366</td>\n",
       "      <td>104.0</td>\n",
       "      <td>870.0</td>\n",
       "      <td>3300.0</td>\n",
       "      <td>0.92</td>\n",
       "      <td>0.06</td>\n",
       "    </tr>\n",
       "    <tr>\n",
       "      <th>8</th>\n",
       "      <td>Приют для кошек \"ЯрКот\"</td>\n",
       "      <td>66241.38</td>\n",
       "      <td>401</td>\n",
       "      <td>165.190474</td>\n",
       "      <td>88.0</td>\n",
       "      <td>832.0</td>\n",
       "      <td>2835.0</td>\n",
       "      <td>0.92</td>\n",
       "      <td>0.08</td>\n",
       "    </tr>\n",
       "    <tr>\n",
       "      <th>9</th>\n",
       "      <td>Самарский приют для животных \"НадеждА\"</td>\n",
       "      <td>107503.00</td>\n",
       "      <td>609</td>\n",
       "      <td>176.523810</td>\n",
       "      <td>105.0</td>\n",
       "      <td>870.0</td>\n",
       "      <td>3300.0</td>\n",
       "      <td>0.91</td>\n",
       "      <td>0.09</td>\n",
       "    </tr>\n",
       "    <tr>\n",
       "      <th>10</th>\n",
       "      <td>Убежище</td>\n",
       "      <td>76552.68</td>\n",
       "      <td>459</td>\n",
       "      <td>166.781438</td>\n",
       "      <td>118.0</td>\n",
       "      <td>937.0</td>\n",
       "      <td>3373.0</td>\n",
       "      <td>0.95</td>\n",
       "      <td>0.05</td>\n",
       "    </tr>\n",
       "    <tr>\n",
       "      <th>11</th>\n",
       "      <td>ФлагманВет</td>\n",
       "      <td>6154.00</td>\n",
       "      <td>31</td>\n",
       "      <td>198.516129</td>\n",
       "      <td>97.0</td>\n",
       "      <td>886.0</td>\n",
       "      <td>NaN</td>\n",
       "      <td>0.87</td>\n",
       "      <td>0.13</td>\n",
       "    </tr>\n",
       "    <tr>\n",
       "      <th>12</th>\n",
       "      <td>Центральный приют Спб для бездомных кошек!</td>\n",
       "      <td>47650.59</td>\n",
       "      <td>315</td>\n",
       "      <td>151.271714</td>\n",
       "      <td>98.0</td>\n",
       "      <td>870.0</td>\n",
       "      <td>NaN</td>\n",
       "      <td>0.93</td>\n",
       "      <td>0.07</td>\n",
       "    </tr>\n",
       "  </tbody>\n",
       "</table>\n",
       "</div>"
      ],
      "text/plain": [
       "                                       shelter      price  sales_amount  \\\n",
       "0                                Добрые сердца   70336.00           354   \n",
       "1                                    Кот и Пёс   34223.00           188   \n",
       "2                                      Котофей   97091.72           640   \n",
       "3                        Кошачий приют \"ДОМИК\"   79210.19           629   \n",
       "4                                  Люськин дом   94132.78           490   \n",
       "5                                    Лёхин дом   65193.00           323   \n",
       "6                                    Матроскин   45635.73           258   \n",
       "7                  Приют для кошек \"Потеряшка\"   56420.00           287   \n",
       "8                      Приют для кошек \"ЯрКот\"   66241.38           401   \n",
       "9       Самарский приют для животных \"НадеждА\"  107503.00           609   \n",
       "10                                     Убежище   76552.68           459   \n",
       "11                                  ФлагманВет    6154.00            31   \n",
       "12  Центральный приют Спб для бездомных кошек!   47650.59           315   \n",
       "\n",
       "    price_per_sale    day    week   month  day_all  week_all  \n",
       "0       198.689266   99.0   958.0  3249.0     0.92      0.08  \n",
       "1       182.037234   94.0   710.0     NaN     0.86      0.14  \n",
       "2       151.705813   87.0   723.0  2500.0     0.91      0.08  \n",
       "3       125.930350   76.0   720.0     NaN     0.92      0.08  \n",
       "4       192.107714   97.0   837.0  2968.0     0.89      0.11  \n",
       "5       201.835913  116.0  1077.0  3745.0     0.96      0.03  \n",
       "6       176.882674   98.0   825.0  3280.0     0.90      0.10  \n",
       "7       196.585366  104.0   870.0  3300.0     0.92      0.06  \n",
       "8       165.190474   88.0   832.0  2835.0     0.92      0.08  \n",
       "9       176.523810  105.0   870.0  3300.0     0.91      0.09  \n",
       "10      166.781438  118.0   937.0  3373.0     0.95      0.05  \n",
       "11      198.516129   97.0   886.0     NaN     0.87      0.13  \n",
       "12      151.271714   98.0   870.0     NaN     0.93      0.07  "
      ]
     },
     "execution_count": 239,
     "metadata": {},
     "output_type": "execute_result"
    }
   ],
   "source": [
    "df_shelters['day'] = days\n",
    "df_shelters['week'] = week\n",
    "df_shelters['month'] = month\n",
    "df_shelters['day_all'] = d1\n",
    "df_shelters['week_all'] = d2\n",
    "df_shelters"
   ]
  },
  {
   "cell_type": "markdown",
   "metadata": {},
   "source": [
    "Мы видим, что подавляющую часть продаж состовляют Котодни. Есть несколько приютов с хорошими показателями. Посмотрим на ситуации для собак."
   ]
  },
  {
   "cell_type": "code",
   "execution_count": 192,
   "metadata": {},
   "outputs": [],
   "source": [
    "df_prices_dogs['item'] = df_prices_dogs['item'].apply(lambda x: re.sub(r\"\\d+\", \"\", x).strip().lower())\n",
    "df_prices_dogs = df_prices_dogs[df_prices_dogs['item'] != 'новогодний пёсонабор']"
   ]
  },
  {
   "cell_type": "code",
   "execution_count": 193,
   "metadata": {},
   "outputs": [
    {
     "data": {
      "text/plain": [
       "shelter\n",
       "4 лапы                  231\n",
       "Кот и Пёс               314\n",
       "Лаюшки и Мяушки         367\n",
       "Мокрый нос              649\n",
       "Шереметьевский приют    149\n",
       "Name: user_id, dtype: int64"
      ]
     },
     "execution_count": 193,
     "metadata": {},
     "output_type": "execute_result"
    }
   ],
   "source": [
    "df_prices_dogs.groupby('shelter')['user_id'].count()"
   ]
  },
  {
   "cell_type": "code",
   "execution_count": 194,
   "metadata": {},
   "outputs": [
    {
     "data": {
      "text/html": [
       "<div>\n",
       "<style scoped>\n",
       "    .dataframe tbody tr th:only-of-type {\n",
       "        vertical-align: middle;\n",
       "    }\n",
       "\n",
       "    .dataframe tbody tr th {\n",
       "        vertical-align: top;\n",
       "    }\n",
       "\n",
       "    .dataframe thead th {\n",
       "        text-align: right;\n",
       "    }\n",
       "</style>\n",
       "<table border=\"1\" class=\"dataframe\">\n",
       "  <thead>\n",
       "    <tr style=\"text-align: right;\">\n",
       "      <th></th>\n",
       "      <th>shelter</th>\n",
       "      <th>price</th>\n",
       "      <th>sales_amount</th>\n",
       "      <th>price_per_sale</th>\n",
       "    </tr>\n",
       "  </thead>\n",
       "  <tbody>\n",
       "    <tr>\n",
       "      <th>0</th>\n",
       "      <td>4 лапы</td>\n",
       "      <td>53642.99</td>\n",
       "      <td>231</td>\n",
       "      <td>232.220736</td>\n",
       "    </tr>\n",
       "    <tr>\n",
       "      <th>1</th>\n",
       "      <td>Кот и Пёс</td>\n",
       "      <td>81460.52</td>\n",
       "      <td>314</td>\n",
       "      <td>259.428408</td>\n",
       "    </tr>\n",
       "    <tr>\n",
       "      <th>2</th>\n",
       "      <td>Лаюшки и Мяушки</td>\n",
       "      <td>87804.43</td>\n",
       "      <td>367</td>\n",
       "      <td>239.249128</td>\n",
       "    </tr>\n",
       "    <tr>\n",
       "      <th>3</th>\n",
       "      <td>Мокрый нос</td>\n",
       "      <td>152725.76</td>\n",
       "      <td>649</td>\n",
       "      <td>235.324746</td>\n",
       "    </tr>\n",
       "    <tr>\n",
       "      <th>4</th>\n",
       "      <td>Шереметьевский приют</td>\n",
       "      <td>71888.31</td>\n",
       "      <td>149</td>\n",
       "      <td>482.471879</td>\n",
       "    </tr>\n",
       "  </tbody>\n",
       "</table>\n",
       "</div>"
      ],
      "text/plain": [
       "                shelter      price  sales_amount  price_per_sale\n",
       "0                4 лапы   53642.99           231      232.220736\n",
       "1             Кот и Пёс   81460.52           314      259.428408\n",
       "2       Лаюшки и Мяушки   87804.43           367      239.249128\n",
       "3            Мокрый нос  152725.76           649      235.324746\n",
       "4  Шереметьевский приют   71888.31           149      482.471879"
      ]
     },
     "execution_count": 194,
     "metadata": {},
     "output_type": "execute_result"
    }
   ],
   "source": [
    "df_shelters2 = df_prices_dogs.groupby('shelter')['price'].sum().reset_index()\n",
    "df_shelters2['sales_amount'] = df_prices_dogs.groupby('shelter')['user_id'].count().reset_index()['user_id']\n",
    "df_shelters2['price_per_sale'] = df_shelters2['price'] / df_shelters2['sales_amount']\n",
    "df_shelters2"
   ]
  },
  {
   "cell_type": "code",
   "execution_count": 235,
   "metadata": {},
   "outputs": [],
   "source": [
    "days = []\n",
    "week = []\n",
    "month = []\n",
    "d1 = []\n",
    "d2 = []\n",
    "for i in df_shelters2['shelter'].to_list():\n",
    "    d = df_prices_dogs[(df_prices_dogs['shelter'] == i) & (df_prices_dogs['item'] == 'пёсодень')]['price'].median()\n",
    "    w = df_prices_dogs[(df_prices_dogs['shelter'] == i) & (df_prices_dogs['item'] == 'пёсонеделя')]['price'].median()\n",
    "    m = df_prices_dogs[(df_prices_dogs['shelter'] == i) & (df_prices_dogs['item'] == 'пёсомесяц')]['price'].median()\n",
    "    dolya = df_prices_dogs[(df_prices_dogs['shelter'] == i) & (df_prices_dogs['item'] == 'пёсодень')]['price'].count() / df_shelters2[df_shelters2['shelter'] == i]['sales_amount']\n",
    "    dolya2 = df_prices_dogs[(df_prices_dogs['shelter'] == i) & (df_prices_dogs['item'] == 'пёсонеделя')]['price'].count() / df_shelters2[df_shelters2['shelter'] == i]['sales_amount']\n",
    "    days.append(d)\n",
    "    week.append(w)\n",
    "    month.append(m)\n",
    "    d1.append(float(\"{0:.2f}\".format(float(dolya))))\n",
    "    d2.append(float(\"{0:.2f}\".format(float(dolya2))))"
   ]
  },
  {
   "cell_type": "code",
   "execution_count": 236,
   "metadata": {},
   "outputs": [
    {
     "data": {
      "text/html": [
       "<div>\n",
       "<style scoped>\n",
       "    .dataframe tbody tr th:only-of-type {\n",
       "        vertical-align: middle;\n",
       "    }\n",
       "\n",
       "    .dataframe tbody tr th {\n",
       "        vertical-align: top;\n",
       "    }\n",
       "\n",
       "    .dataframe thead th {\n",
       "        text-align: right;\n",
       "    }\n",
       "</style>\n",
       "<table border=\"1\" class=\"dataframe\">\n",
       "  <thead>\n",
       "    <tr style=\"text-align: right;\">\n",
       "      <th></th>\n",
       "      <th>shelter</th>\n",
       "      <th>price</th>\n",
       "      <th>sales_amount</th>\n",
       "      <th>price_per_sale</th>\n",
       "      <th>day</th>\n",
       "      <th>week</th>\n",
       "      <th>month</th>\n",
       "      <th>day_all</th>\n",
       "      <th>week_all</th>\n",
       "    </tr>\n",
       "  </thead>\n",
       "  <tbody>\n",
       "    <tr>\n",
       "      <th>0</th>\n",
       "      <td>4 лапы</td>\n",
       "      <td>53642.99</td>\n",
       "      <td>231</td>\n",
       "      <td>232.220736</td>\n",
       "      <td>155.0</td>\n",
       "      <td>860.0</td>\n",
       "      <td>3100.0</td>\n",
       "      <td>0.90</td>\n",
       "      <td>0.09</td>\n",
       "    </tr>\n",
       "    <tr>\n",
       "      <th>1</th>\n",
       "      <td>Кот и Пёс</td>\n",
       "      <td>81460.52</td>\n",
       "      <td>314</td>\n",
       "      <td>259.428408</td>\n",
       "      <td>155.0</td>\n",
       "      <td>800.0</td>\n",
       "      <td>3050.0</td>\n",
       "      <td>0.85</td>\n",
       "      <td>0.15</td>\n",
       "    </tr>\n",
       "    <tr>\n",
       "      <th>2</th>\n",
       "      <td>Лаюшки и Мяушки</td>\n",
       "      <td>87804.43</td>\n",
       "      <td>367</td>\n",
       "      <td>239.249128</td>\n",
       "      <td>155.0</td>\n",
       "      <td>800.0</td>\n",
       "      <td>NaN</td>\n",
       "      <td>0.88</td>\n",
       "      <td>0.12</td>\n",
       "    </tr>\n",
       "    <tr>\n",
       "      <th>3</th>\n",
       "      <td>Мокрый нос</td>\n",
       "      <td>152725.76</td>\n",
       "      <td>649</td>\n",
       "      <td>235.324746</td>\n",
       "      <td>145.0</td>\n",
       "      <td>887.0</td>\n",
       "      <td>2530.0</td>\n",
       "      <td>0.90</td>\n",
       "      <td>0.09</td>\n",
       "    </tr>\n",
       "    <tr>\n",
       "      <th>4</th>\n",
       "      <td>Шереметьевский приют</td>\n",
       "      <td>71888.31</td>\n",
       "      <td>149</td>\n",
       "      <td>482.471879</td>\n",
       "      <td>295.0</td>\n",
       "      <td>1950.0</td>\n",
       "      <td>7360.0</td>\n",
       "      <td>0.90</td>\n",
       "      <td>0.09</td>\n",
       "    </tr>\n",
       "  </tbody>\n",
       "</table>\n",
       "</div>"
      ],
      "text/plain": [
       "                shelter      price  sales_amount  price_per_sale    day  \\\n",
       "0                4 лапы   53642.99           231      232.220736  155.0   \n",
       "1             Кот и Пёс   81460.52           314      259.428408  155.0   \n",
       "2       Лаюшки и Мяушки   87804.43           367      239.249128  155.0   \n",
       "3            Мокрый нос  152725.76           649      235.324746  145.0   \n",
       "4  Шереметьевский приют   71888.31           149      482.471879  295.0   \n",
       "\n",
       "     week   month  day_all  week_all  \n",
       "0   860.0  3100.0     0.90      0.09  \n",
       "1   800.0  3050.0     0.85      0.15  \n",
       "2   800.0     NaN     0.88      0.12  \n",
       "3   887.0  2530.0     0.90      0.09  \n",
       "4  1950.0  7360.0     0.90      0.09  "
      ]
     },
     "execution_count": 236,
     "metadata": {},
     "output_type": "execute_result"
    }
   ],
   "source": [
    "df_shelters2['day'] = days\n",
    "df_shelters2['week'] = week\n",
    "df_shelters2['month'] = month\n",
    "df_shelters2['day_all'] = d1\n",
    "df_shelters2['week_all'] = d2\n",
    "df_shelters2"
   ]
  },
  {
   "cell_type": "code",
   "execution_count": 237,
   "metadata": {},
   "outputs": [
    {
     "data": {
      "text/plain": [
       "0.10799999999999998"
      ]
     },
     "execution_count": 237,
     "metadata": {},
     "output_type": "execute_result"
    }
   ],
   "source": [
    "df_shelters2['week_all'].mean()"
   ]
  },
  {
   "cell_type": "code",
   "execution_count": 240,
   "metadata": {},
   "outputs": [
    {
     "data": {
      "text/plain": [
       "0.08461538461538462"
      ]
     },
     "execution_count": 240,
     "metadata": {},
     "output_type": "execute_result"
    }
   ],
   "source": [
    "df_shelters['week_all'].mean()"
   ]
  },
  {
   "cell_type": "markdown",
   "metadata": {},
   "source": [
    "Составив таблицу для собак, мы можем заметить, что прибыль у собак гораздо выше при похожих количествах транзакций. Это связано с тем, что цена за день у них выше, но стоит заметить что ценовое предложение отличается. У собак в цену Пёсодня входит рекламма, что оправдывает более высокую цену, но при этом оно так же делает выгодным предложения Пёсонеделя и Пёсомесяц. И это приводит к не намного, но более высоким покупкам Недель. Текущее предложение Котопродуктов делает не целесообразным покупку чего-либо кроме Котодня из-за неясной цены рекламмы."
   ]
  },
  {
   "cell_type": "code",
   "execution_count": 219,
   "metadata": {},
   "outputs": [
    {
     "data": {
      "text/plain": [
       "29.657142857142855"
      ]
     },
     "execution_count": 219,
     "metadata": {},
     "output_type": "execute_result"
    }
   ],
   "source": [
    "(df_shelters2['day'] - df_shelters2['week'] / 7).mean()"
   ]
  },
  {
   "cell_type": "code",
   "execution_count": 220,
   "metadata": {},
   "outputs": [
    {
     "data": {
      "text/plain": [
       "53.833333333333336"
      ]
     },
     "execution_count": 220,
     "metadata": {},
     "output_type": "execute_result"
    }
   ],
   "source": [
    "(df_shelters2['day'] - df_shelters2['month'] / 30).mean()"
   ]
  },
  {
   "cell_type": "code",
   "execution_count": 231,
   "metadata": {},
   "outputs": [],
   "source": [
    "def cal(x):\n",
    "    day = x + 53\n",
    "    week = (day - 30) * 7\n",
    "    month = x * 30\n",
    "    print(day, week, month)"
   ]
  },
  {
   "cell_type": "code",
   "execution_count": 232,
   "metadata": {},
   "outputs": [
    {
     "name": "stdout",
     "output_type": "stream",
     "text": [
      "153 861 3000\n"
     ]
    }
   ],
   "source": [
    "cal(100)"
   ]
  },
  {
   "cell_type": "markdown",
   "metadata": {},
   "source": [
    "Функция выше на основе информации из ценообразовния Пёсопродуктов расчитывает цены по минимальной цене за день"
   ]
  },
  {
   "cell_type": "markdown",
   "metadata": {},
   "source": [
    "Гипотезы по ценообразованию"
   ]
  },
  {
   "cell_type": "markdown",
   "metadata": {},
   "source": [
    "1) Более четкое определение рекламмы поможет пользователям определить ее ценность и приведет к лучшим покзателям, в случае ценообразования для Котопродуктов\n",
    "\n",
    "2) Пересчет предложения на стоимость в день может помочь пользователю потратить больше денег за один раз"
   ]
  },
  {
   "cell_type": "code",
   "execution_count": null,
   "metadata": {},
   "outputs": [],
   "source": []
  }
 ],
 "metadata": {
  "kernelspec": {
   "display_name": "Python 3",
   "language": "python",
   "name": "python3"
  },
  "language_info": {
   "codemirror_mode": {
    "name": "ipython",
    "version": 3
   },
   "file_extension": ".py",
   "mimetype": "text/x-python",
   "name": "python",
   "nbconvert_exporter": "python",
   "pygments_lexer": "ipython3",
   "version": "3.7.7"
  }
 },
 "nbformat": 4,
 "nbformat_minor": 4
}
